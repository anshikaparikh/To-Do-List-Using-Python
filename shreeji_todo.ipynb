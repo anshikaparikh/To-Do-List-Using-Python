{
 "cells": [
  {
   "cell_type": "code",
   "execution_count": null,
   "id": "cc9b3b86-990f-489f-a098-221052b3ac45",
   "metadata": {},
   "outputs": [
    {
     "name": "stdout",
     "output_type": "stream",
     "text": [
      "[]\n",
      "Welcome\n",
      "1. View\n",
      "2. Add\n",
      "3. Delete\n",
      "4. Exit\n"
     ]
    },
    {
     "name": "stdin",
     "output_type": "stream",
     "text": [
      "Enter the operation to be performed:  2\n",
      "Enter the activity needed to be added:  eat\n"
     ]
    },
    {
     "name": "stdout",
     "output_type": "stream",
     "text": [
      "Item added successfully\n",
      "Welcome\n",
      "1. View\n",
      "2. Add\n",
      "3. Delete\n",
      "4. Exit\n"
     ]
    },
    {
     "name": "stdin",
     "output_type": "stream",
     "text": [
      "Enter the operation to be performed:  1\n"
     ]
    },
    {
     "name": "stdout",
     "output_type": "stream",
     "text": [
      "eat\n",
      "Welcome\n",
      "1. View\n",
      "2. Add\n",
      "3. Delete\n",
      "4. Exit\n"
     ]
    },
    {
     "name": "stdin",
     "output_type": "stream",
     "text": [
      "Enter the operation to be performed:  2\n",
      "Enter the activity needed to be added:  study\n"
     ]
    },
    {
     "name": "stdout",
     "output_type": "stream",
     "text": [
      "Item added successfully\n",
      "Welcome\n",
      "1. View\n",
      "2. Add\n",
      "3. Delete\n",
      "4. Exit\n"
     ]
    },
    {
     "name": "stdin",
     "output_type": "stream",
     "text": [
      "Enter the operation to be performed:  1\n"
     ]
    },
    {
     "name": "stdout",
     "output_type": "stream",
     "text": [
      "eat\n",
      "study\n",
      "Welcome\n",
      "1. View\n",
      "2. Add\n",
      "3. Delete\n",
      "4. Exit\n"
     ]
    },
    {
     "name": "stdin",
     "output_type": "stream",
     "text": [
      "Enter the operation to be performed:  3\n",
      "Enter the activity needed to be deleted:  1\n"
     ]
    },
    {
     "name": "stdout",
     "output_type": "stream",
     "text": [
      "Item not found in the list.\n",
      "Welcome\n",
      "1. View\n",
      "2. Add\n",
      "3. Delete\n",
      "4. Exit\n"
     ]
    },
    {
     "name": "stdin",
     "output_type": "stream",
     "text": [
      "Enter the operation to be performed:  3\n",
      "Enter the activity needed to be deleted:  1\n"
     ]
    },
    {
     "name": "stdout",
     "output_type": "stream",
     "text": [
      "Item not found in the list.\n",
      "Welcome\n",
      "1. View\n",
      "2. Add\n",
      "3. Delete\n",
      "4. Exit\n"
     ]
    },
    {
     "name": "stdin",
     "output_type": "stream",
     "text": [
      "Enter the operation to be performed:  3\n",
      "Enter the activity needed to be deleted:  sleep\n"
     ]
    },
    {
     "name": "stdout",
     "output_type": "stream",
     "text": [
      "Item not found in the list.\n",
      "Welcome\n",
      "1. View\n",
      "2. Add\n",
      "3. Delete\n",
      "4. Exit\n"
     ]
    },
    {
     "name": "stdin",
     "output_type": "stream",
     "text": [
      "Enter the operation to be performed:  3\n",
      "Enter the activity needed to be deleted:  study\n"
     ]
    },
    {
     "name": "stdout",
     "output_type": "stream",
     "text": [
      "Deleted successfully\n",
      "Welcome\n",
      "1. View\n",
      "2. Add\n",
      "3. Delete\n",
      "4. Exit\n"
     ]
    },
    {
     "name": "stdin",
     "output_type": "stream",
     "text": [
      "Enter the operation to be performed:  2\n"
     ]
    }
   ],
   "source": [
    "todo = []\n",
    "print(todo)\n",
    "\n",
    "while True:  # 'True' instead of 'TRUE'\n",
    "    print(\"Welcome\")\n",
    "    print(\"1. View\")\n",
    "    print(\"2. Add\")\n",
    "    print(\"3. Delete\")\n",
    "    print(\"4. Exit\")\n",
    "    \n",
    "    count = int(input(\"Enter the operation to be performed: \"))\n",
    "    \n",
    "    if count == 1:\n",
    "        if len(todo) == 0:  # 'len(todo)' instead of 'todo.len()'\n",
    "            print(\"Empty list\")\n",
    "        else:\n",
    "            for item in todo:\n",
    "                print(item)  # Print the item itself\n",
    "    \n",
    "    elif count == 2:\n",
    "        item = input(\"Enter the activity needed to be added: \")\n",
    "        todo.append(item)\n",
    "        print(\"Item added successfully\")\n",
    "    \n",
    "    elif count == 3:\n",
    "        delete = input(\"Enter the activity needed to be deleted: \")\n",
    "        if delete in todo:\n",
    "            todo.remove(delete)\n",
    "            print(\"Deleted successfully\")\n",
    "        else:\n",
    "            print(\"Item not found in the list.\")\n",
    "    \n",
    "    elif count == 4:\n",
    "        print(\"Goodbye, thanks for using.\")\n",
    "        break  # Exit the loop when the user chooses option 4\n",
    "    \n",
    "    else:\n",
    "        print(\"Invalid option. Please try again.\")\n"
   ]
  },
  {
   "cell_type": "code",
   "execution_count": null,
   "id": "5ec86527-05b1-49f7-bc5b-156ef32d2867",
   "metadata": {},
   "outputs": [],
   "source": []
  }
 ],
 "metadata": {
  "kernelspec": {
   "display_name": "Python 3 (ipykernel)",
   "language": "python",
   "name": "python3"
  },
  "language_info": {
   "codemirror_mode": {
    "name": "ipython",
    "version": 3
   },
   "file_extension": ".py",
   "mimetype": "text/x-python",
   "name": "python",
   "nbconvert_exporter": "python",
   "pygments_lexer": "ipython3",
   "version": "3.12.4"
  }
 },
 "nbformat": 4,
 "nbformat_minor": 5
}
